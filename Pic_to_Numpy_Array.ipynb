{
  "nbformat": 4,
  "nbformat_minor": 0,
  "metadata": {
    "colab": {
      "name": "Pic to Numpy Array.ipynb",
      "provenance": [],
      "authorship_tag": "ABX9TyNhQiG6UXXI3tSo7Dl2YFP9",
      "include_colab_link": true
    },
    "kernelspec": {
      "name": "python3",
      "display_name": "Python 3"
    },
    "language_info": {
      "name": "python"
    }
  },
  "cells": [
    {
      "cell_type": "markdown",
      "metadata": {
        "id": "view-in-github",
        "colab_type": "text"
      },
      "source": [
        "<a href=\"https://colab.research.google.com/github/HumayunK01/Numpy-Assignment/blob/main/Pic_to_Numpy_Array.ipynb\" target=\"_parent\"><img src=\"https://colab.research.google.com/assets/colab-badge.svg\" alt=\"Open In Colab\"/></a>"
      ]
    },
    {
      "cell_type": "markdown",
      "source": [
        "**Work on image using Numpy library:**"
      ],
      "metadata": {
        "id": "1dkNkOAwg_rt"
      }
    },
    {
      "cell_type": "code",
      "execution_count": 1,
      "metadata": {
        "colab": {
          "base_uri": "https://localhost:8080/"
        },
        "id": "49ODIGmQg19e",
        "outputId": "92133a3f-de31-47e9-83d7-3e0d6e31d8c0"
      },
      "outputs": [
        {
          "output_type": "stream",
          "name": "stdout",
          "text": [
            "Pillow Version: 7.1.2\n"
          ]
        }
      ],
      "source": [
        "import PIL\n",
        "print('Pillow Version:', PIL.__version__)"
      ]
    },
    {
      "cell_type": "code",
      "source": [
        "from PIL import Image\n",
        "from numpy import asarray\n",
        "# load the image\n",
        "image = Image.open('abc.jpg')\n",
        "# convert image to numpy array\n",
        "data = asarray(image)\n",
        "print(type(data))\n",
        "# summarize shape\n",
        "print(data.shape)\n",
        "\n",
        "# create Pillow image\n",
        "image2 = Image.fromarray(data)\n",
        "print(type(image2))\n",
        "\n",
        "# summarize image details\n",
        "print(image2.mode)\n",
        "print(image2.size)"
      ],
      "metadata": {
        "colab": {
          "base_uri": "https://localhost:8080/"
        },
        "id": "5pH45JfihjBU",
        "outputId": "6e146000-86c7-4c9d-e551-322d0881373d"
      },
      "execution_count": 4,
      "outputs": [
        {
          "output_type": "stream",
          "name": "stdout",
          "text": [
            "<class 'numpy.ndarray'>\n",
            "(2400, 3840, 3)\n",
            "<class 'PIL.Image.Image'>\n",
            "RGB\n",
            "(3840, 2400)\n"
          ]
        }
      ]
    },
    {
      "cell_type": "code",
      "source": [
        "print(data)"
      ],
      "metadata": {
        "colab": {
          "base_uri": "https://localhost:8080/"
        },
        "id": "o7gIKPvUhwst",
        "outputId": "6fb09fd6-71c4-4d04-9e2c-4bc288c5152a"
      },
      "execution_count": 5,
      "outputs": [
        {
          "output_type": "stream",
          "name": "stdout",
          "text": [
            "[[[ 13  55  71]\n",
            "  [ 13  55  71]\n",
            "  [ 13  55  71]\n",
            "  ...\n",
            "  [  7  25  35]\n",
            "  [  8  26  36]\n",
            "  [  9  27  37]]\n",
            "\n",
            " [[ 12  54  70]\n",
            "  [ 12  54  70]\n",
            "  [ 12  54  70]\n",
            "  ...\n",
            "  [  7  25  35]\n",
            "  [  8  26  36]\n",
            "  [  9  27  37]]\n",
            "\n",
            " [[ 11  53  69]\n",
            "  [ 11  53  69]\n",
            "  [ 11  53  69]\n",
            "  ...\n",
            "  [  8  26  36]\n",
            "  [  8  26  36]\n",
            "  [  8  26  36]]\n",
            "\n",
            " ...\n",
            "\n",
            " [[119 147 135]\n",
            "  [118 146 134]\n",
            "  [118 146 134]\n",
            "  ...\n",
            "  [  0   7  18]\n",
            "  [  0   8  18]\n",
            "  [  0   8  16]]\n",
            "\n",
            " [[114 146 133]\n",
            "  [114 146 133]\n",
            "  [115 145 133]\n",
            "  ...\n",
            "  [  0   8  18]\n",
            "  [  0   8  18]\n",
            "  [  0   8  18]]\n",
            "\n",
            " [[112 146 132]\n",
            "  [112 146 132]\n",
            "  [112 146 132]\n",
            "  ...\n",
            "  [  0   8  16]\n",
            "  [  0   8  18]\n",
            "  [  0   7  18]]]\n"
          ]
        }
      ]
    },
    {
      "cell_type": "code",
      "source": [
        "print(data.shape)"
      ],
      "metadata": {
        "colab": {
          "base_uri": "https://localhost:8080/"
        },
        "id": "7DPZ1BwDh23D",
        "outputId": "fd1bf000-cf30-4af9-81b5-8857719e239d"
      },
      "execution_count": 6,
      "outputs": [
        {
          "output_type": "stream",
          "name": "stdout",
          "text": [
            "(2400, 3840, 3)\n"
          ]
        }
      ]
    }
  ]
}